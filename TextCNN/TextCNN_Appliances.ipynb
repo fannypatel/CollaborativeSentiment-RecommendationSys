{
 "cells": [
  {
   "cell_type": "code",
   "execution_count": 1,
   "id": "af52b5d4",
   "metadata": {},
   "outputs": [],
   "source": [
    "import pandas as pd\n",
    "from pathlib import Path\n",
    "import json\n",
    "import csv"
   ]
  },
  {
   "cell_type": "code",
   "execution_count": 2,
   "id": "ff45bd0b",
   "metadata": {},
   "outputs": [
    {
     "name": "stderr",
     "output_type": "stream",
     "text": [
      "2023-11-29 20:47:21.860450: I tensorflow/core/platform/cpu_feature_guard.cc:193] This TensorFlow binary is optimized with oneAPI Deep Neural Network Library (oneDNN) to use the following CPU instructions in performance-critical operations:  SSE4.1 SSE4.2\n",
      "To enable them in other operations, rebuild TensorFlow with the appropriate compiler flags.\n"
     ]
    }
   ],
   "source": [
    "%matplotlib inline\n",
    "import re\n",
    "import seaborn as sbn\n",
    "import nltk\n",
    "import tqdm as tqdm\n",
    "import sqlite3\n",
    "import pandas as pd\n",
    "import numpy as np\n",
    "\n",
    "import string\n",
    "from nltk.corpus import stopwords\n",
    "stop = stopwords.words(\"english\")\n",
    "import matplotlib.pyplot as plt\n",
    "\n",
    "from sklearn.metrics import accuracy_score\n",
    "from sklearn.metrics import confusion_matrix\n",
    "from math import floor,ceil\n",
    "from nltk.stem.porter import PorterStemmer\n",
    "english_stemmer=nltk.stem.SnowballStemmer('english')\n",
    "\n",
    "from sklearn.feature_extraction.text import TfidfTransformer\n",
    "from sklearn.feature_extraction.text import CountVectorizer\n",
    "from sklearn.model_selection import train_test_split\n",
    "from sklearn.metrics import confusion_matrix\n",
    "from sklearn import metrics\n",
    "from sklearn.metrics import roc_curve, auc\n",
    "\n",
    "from sklearn.svm import LinearSVC\n",
    "\n",
    "from keras.models import Sequential\n",
    "from keras.layers import LSTM, Dense, Embedding\n",
    "\n",
    "\n",
    "#from gensim import summarization\n",
    "from nltk.tokenize import word_tokenize\n",
    "from sklearn.feature_extraction.text import TfidfVectorizer\n",
    "from sklearn.model_selection import train_test_split\n",
    "\n",
    "from imblearn.over_sampling import SMOTE\n"
   ]
  },
  {
   "cell_type": "code",
   "execution_count": 3,
   "id": "dae845c1",
   "metadata": {},
   "outputs": [],
   "source": [
    "df = pd.read_json(('Data/Appliances.json'), lines=True)\n",
    "df.to_csv ('Data/Appliances.csv', index = None)"
   ]
  },
  {
   "cell_type": "code",
   "execution_count": 4,
   "id": "b19d56df",
   "metadata": {},
   "outputs": [
    {
     "name": "stderr",
     "output_type": "stream",
     "text": [
      "/var/folders/dd/0k6q11nj127933sr8wm11nhw0000gn/T/ipykernel_807/123192504.py:1: DtypeWarning: Columns (1) have mixed types. Specify dtype option on import or set low_memory=False.\n",
      "  review_df = pd.read_csv('Data/Appliances.csv')\n"
     ]
    },
    {
     "data": {
      "text/html": [
       "<div>\n",
       "<style scoped>\n",
       "    .dataframe tbody tr th:only-of-type {\n",
       "        vertical-align: middle;\n",
       "    }\n",
       "\n",
       "    .dataframe tbody tr th {\n",
       "        vertical-align: top;\n",
       "    }\n",
       "\n",
       "    .dataframe thead th {\n",
       "        text-align: right;\n",
       "    }\n",
       "</style>\n",
       "<table border=\"1\" class=\"dataframe\">\n",
       "  <thead>\n",
       "    <tr style=\"text-align: right;\">\n",
       "      <th></th>\n",
       "      <th>overall</th>\n",
       "      <th>vote</th>\n",
       "      <th>verified</th>\n",
       "      <th>reviewTime</th>\n",
       "      <th>reviewerID</th>\n",
       "      <th>asin</th>\n",
       "      <th>style</th>\n",
       "      <th>reviewerName</th>\n",
       "      <th>reviewText</th>\n",
       "      <th>summary</th>\n",
       "      <th>unixReviewTime</th>\n",
       "      <th>image</th>\n",
       "    </tr>\n",
       "  </thead>\n",
       "  <tbody>\n",
       "    <tr>\n",
       "      <th>0</th>\n",
       "      <td>5</td>\n",
       "      <td>2</td>\n",
       "      <td>False</td>\n",
       "      <td>11 27, 2013</td>\n",
       "      <td>A3NHUQ33CFH3VM</td>\n",
       "      <td>1118461304</td>\n",
       "      <td>{'Format:': ' Hardcover'}</td>\n",
       "      <td>Greeny</td>\n",
       "      <td>Not one thing in this book seemed an obvious o...</td>\n",
       "      <td>Clear on what leads to innovation</td>\n",
       "      <td>1385510400</td>\n",
       "      <td>NaN</td>\n",
       "    </tr>\n",
       "    <tr>\n",
       "      <th>1</th>\n",
       "      <td>5</td>\n",
       "      <td>NaN</td>\n",
       "      <td>False</td>\n",
       "      <td>11 1, 2013</td>\n",
       "      <td>A3SK6VNBQDNBJE</td>\n",
       "      <td>1118461304</td>\n",
       "      <td>{'Format:': ' Kindle Edition'}</td>\n",
       "      <td>Leif C. Ulstrup</td>\n",
       "      <td>I have enjoyed Dr. Alan Gregerman's weekly blo...</td>\n",
       "      <td>Becoming more innovative by opening yourself t...</td>\n",
       "      <td>1383264000</td>\n",
       "      <td>NaN</td>\n",
       "    </tr>\n",
       "    <tr>\n",
       "      <th>2</th>\n",
       "      <td>5</td>\n",
       "      <td>NaN</td>\n",
       "      <td>False</td>\n",
       "      <td>10 10, 2013</td>\n",
       "      <td>A3SOFHUR27FO3K</td>\n",
       "      <td>1118461304</td>\n",
       "      <td>{'Format:': ' Hardcover'}</td>\n",
       "      <td>Harry Gilbert Miller III</td>\n",
       "      <td>Alan Gregerman believes that innovation comes ...</td>\n",
       "      <td>The World from Different Perspectives</td>\n",
       "      <td>1381363200</td>\n",
       "      <td>NaN</td>\n",
       "    </tr>\n",
       "    <tr>\n",
       "      <th>3</th>\n",
       "      <td>5</td>\n",
       "      <td>NaN</td>\n",
       "      <td>False</td>\n",
       "      <td>10 9, 2013</td>\n",
       "      <td>A1HOG1PYCAE157</td>\n",
       "      <td>1118461304</td>\n",
       "      <td>{'Format:': ' Hardcover'}</td>\n",
       "      <td>Rebecca Ripley</td>\n",
       "      <td>Alan Gregerman is a smart, funny, entertaining...</td>\n",
       "      <td>Strangers are Your New Best Friends</td>\n",
       "      <td>1381276800</td>\n",
       "      <td>NaN</td>\n",
       "    </tr>\n",
       "    <tr>\n",
       "      <th>4</th>\n",
       "      <td>5</td>\n",
       "      <td>10</td>\n",
       "      <td>False</td>\n",
       "      <td>09 7, 2013</td>\n",
       "      <td>A26JGAM6GZMM4V</td>\n",
       "      <td>1118461304</td>\n",
       "      <td>{'Format:': ' Hardcover'}</td>\n",
       "      <td>Robert Morris</td>\n",
       "      <td>As I began to read this book, I was again remi...</td>\n",
       "      <td>How and why it is imperative to engage, learn ...</td>\n",
       "      <td>1378512000</td>\n",
       "      <td>NaN</td>\n",
       "    </tr>\n",
       "    <tr>\n",
       "      <th>...</th>\n",
       "      <td>...</td>\n",
       "      <td>...</td>\n",
       "      <td>...</td>\n",
       "      <td>...</td>\n",
       "      <td>...</td>\n",
       "      <td>...</td>\n",
       "      <td>...</td>\n",
       "      <td>...</td>\n",
       "      <td>...</td>\n",
       "      <td>...</td>\n",
       "      <td>...</td>\n",
       "      <td>...</td>\n",
       "    </tr>\n",
       "    <tr>\n",
       "      <th>602772</th>\n",
       "      <td>5</td>\n",
       "      <td>NaN</td>\n",
       "      <td>True</td>\n",
       "      <td>08 10, 2017</td>\n",
       "      <td>A24A9P4F2SLTK5</td>\n",
       "      <td>B01HJH2PY0</td>\n",
       "      <td>NaN</td>\n",
       "      <td>Tana</td>\n",
       "      <td>perfect replacement for our broken one.</td>\n",
       "      <td>Five Stars</td>\n",
       "      <td>1502323200</td>\n",
       "      <td>NaN</td>\n",
       "    </tr>\n",
       "    <tr>\n",
       "      <th>602773</th>\n",
       "      <td>2</td>\n",
       "      <td>NaN</td>\n",
       "      <td>True</td>\n",
       "      <td>08 1, 2018</td>\n",
       "      <td>A2JCB4KHBWEELW</td>\n",
       "      <td>B01HJHHEA0</td>\n",
       "      <td>NaN</td>\n",
       "      <td>CMA</td>\n",
       "      <td>Quick delivery, did not fit my stove.</td>\n",
       "      <td>Two Stars</td>\n",
       "      <td>1533081600</td>\n",
       "      <td>NaN</td>\n",
       "    </tr>\n",
       "    <tr>\n",
       "      <th>602774</th>\n",
       "      <td>5</td>\n",
       "      <td>NaN</td>\n",
       "      <td>True</td>\n",
       "      <td>04 13, 2018</td>\n",
       "      <td>A1LDYYVTLPP2Z5</td>\n",
       "      <td>B01HJHHEA0</td>\n",
       "      <td>NaN</td>\n",
       "      <td>Himmy</td>\n",
       "      <td>Perfect match for my oven!</td>\n",
       "      <td>Five Stars</td>\n",
       "      <td>1523577600</td>\n",
       "      <td>NaN</td>\n",
       "    </tr>\n",
       "    <tr>\n",
       "      <th>602775</th>\n",
       "      <td>1</td>\n",
       "      <td>NaN</td>\n",
       "      <td>True</td>\n",
       "      <td>03 23, 2018</td>\n",
       "      <td>AP1M5O06IOYZ7</td>\n",
       "      <td>B01HJH92JQ</td>\n",
       "      <td>NaN</td>\n",
       "      <td>Alberto</td>\n",
       "      <td>Doesn't work with Bosch SHX33A06UC/14 dishwash...</td>\n",
       "      <td>Doesn't work with Bosch SHX33A06UC/14 dishwash...</td>\n",
       "      <td>1521763200</td>\n",
       "      <td>NaN</td>\n",
       "    </tr>\n",
       "    <tr>\n",
       "      <th>602776</th>\n",
       "      <td>3</td>\n",
       "      <td>NaN</td>\n",
       "      <td>True</td>\n",
       "      <td>01 8, 2018</td>\n",
       "      <td>A1BU98NV4Y0P9K</td>\n",
       "      <td>B01HJH92JQ</td>\n",
       "      <td>NaN</td>\n",
       "      <td>RobMckenner</td>\n",
       "      <td>The switch works with my dishwasher after I mo...</td>\n",
       "      <td>The switch works with my dishwasher after I mo...</td>\n",
       "      <td>1515369600</td>\n",
       "      <td>NaN</td>\n",
       "    </tr>\n",
       "  </tbody>\n",
       "</table>\n",
       "<p>602777 rows × 12 columns</p>\n",
       "</div>"
      ],
      "text/plain": [
       "        overall vote  verified   reviewTime      reviewerID        asin  \\\n",
       "0             5    2     False  11 27, 2013  A3NHUQ33CFH3VM  1118461304   \n",
       "1             5  NaN     False   11 1, 2013  A3SK6VNBQDNBJE  1118461304   \n",
       "2             5  NaN     False  10 10, 2013  A3SOFHUR27FO3K  1118461304   \n",
       "3             5  NaN     False   10 9, 2013  A1HOG1PYCAE157  1118461304   \n",
       "4             5   10     False   09 7, 2013  A26JGAM6GZMM4V  1118461304   \n",
       "...         ...  ...       ...          ...             ...         ...   \n",
       "602772        5  NaN      True  08 10, 2017  A24A9P4F2SLTK5  B01HJH2PY0   \n",
       "602773        2  NaN      True   08 1, 2018  A2JCB4KHBWEELW  B01HJHHEA0   \n",
       "602774        5  NaN      True  04 13, 2018  A1LDYYVTLPP2Z5  B01HJHHEA0   \n",
       "602775        1  NaN      True  03 23, 2018   AP1M5O06IOYZ7  B01HJH92JQ   \n",
       "602776        3  NaN      True   01 8, 2018  A1BU98NV4Y0P9K  B01HJH92JQ   \n",
       "\n",
       "                                 style              reviewerName  \\\n",
       "0            {'Format:': ' Hardcover'}                    Greeny   \n",
       "1       {'Format:': ' Kindle Edition'}           Leif C. Ulstrup   \n",
       "2            {'Format:': ' Hardcover'}  Harry Gilbert Miller III   \n",
       "3            {'Format:': ' Hardcover'}            Rebecca Ripley   \n",
       "4            {'Format:': ' Hardcover'}             Robert Morris   \n",
       "...                                ...                       ...   \n",
       "602772                             NaN                      Tana   \n",
       "602773                             NaN                       CMA   \n",
       "602774                             NaN                     Himmy   \n",
       "602775                             NaN                   Alberto   \n",
       "602776                             NaN               RobMckenner   \n",
       "\n",
       "                                               reviewText  \\\n",
       "0       Not one thing in this book seemed an obvious o...   \n",
       "1       I have enjoyed Dr. Alan Gregerman's weekly blo...   \n",
       "2       Alan Gregerman believes that innovation comes ...   \n",
       "3       Alan Gregerman is a smart, funny, entertaining...   \n",
       "4       As I began to read this book, I was again remi...   \n",
       "...                                                   ...   \n",
       "602772            perfect replacement for our broken one.   \n",
       "602773              Quick delivery, did not fit my stove.   \n",
       "602774                         Perfect match for my oven!   \n",
       "602775  Doesn't work with Bosch SHX33A06UC/14 dishwash...   \n",
       "602776  The switch works with my dishwasher after I mo...   \n",
       "\n",
       "                                                  summary  unixReviewTime  \\\n",
       "0                       Clear on what leads to innovation      1385510400   \n",
       "1       Becoming more innovative by opening yourself t...      1383264000   \n",
       "2                   The World from Different Perspectives      1381363200   \n",
       "3                     Strangers are Your New Best Friends      1381276800   \n",
       "4       How and why it is imperative to engage, learn ...      1378512000   \n",
       "...                                                   ...             ...   \n",
       "602772                                         Five Stars      1502323200   \n",
       "602773                                          Two Stars      1533081600   \n",
       "602774                                         Five Stars      1523577600   \n",
       "602775  Doesn't work with Bosch SHX33A06UC/14 dishwash...      1521763200   \n",
       "602776  The switch works with my dishwasher after I mo...      1515369600   \n",
       "\n",
       "       image  \n",
       "0        NaN  \n",
       "1        NaN  \n",
       "2        NaN  \n",
       "3        NaN  \n",
       "4        NaN  \n",
       "...      ...  \n",
       "602772   NaN  \n",
       "602773   NaN  \n",
       "602774   NaN  \n",
       "602775   NaN  \n",
       "602776   NaN  \n",
       "\n",
       "[602777 rows x 12 columns]"
      ]
     },
     "execution_count": 4,
     "metadata": {},
     "output_type": "execute_result"
    }
   ],
   "source": [
    "review_df = pd.read_csv('Data/Appliances.csv')\n",
    "review_df"
   ]
  },
  {
   "cell_type": "code",
   "execution_count": 5,
   "id": "6b6881ff",
   "metadata": {},
   "outputs": [
    {
     "data": {
      "text/plain": [
       "Index(['overall', 'vote', 'verified', 'reviewTime', 'reviewerID', 'asin',\n",
       "       'style', 'reviewerName', 'reviewText', 'summary', 'unixReviewTime',\n",
       "       'image'],\n",
       "      dtype='object')"
      ]
     },
     "execution_count": 5,
     "metadata": {},
     "output_type": "execute_result"
    }
   ],
   "source": [
    "review_df.columns"
   ]
  },
  {
   "cell_type": "code",
   "execution_count": 6,
   "id": "90db3e5d",
   "metadata": {},
   "outputs": [],
   "source": [
    "#Dropping the columns not required\n",
    "review_df=review_df.drop(['vote','verified','reviewTime','style','reviewerName', 'unixReviewTime', 'image'],axis=1)"
   ]
  },
  {
   "cell_type": "code",
   "execution_count": 7,
   "id": "be087203",
   "metadata": {},
   "outputs": [
    {
     "data": {
      "text/plain": [
       "<Axes: xlabel='overall', ylabel='count'>"
      ]
     },
     "execution_count": 7,
     "metadata": {},
     "output_type": "execute_result"
    },
    {
     "data": {
      "image/png": "[encoded data removed]",
      "text/plain": [
       "<Figure size 640x480 with 1 Axes>"
      ]
     },
     "metadata": {},
     "output_type": "display_data"
    }
   ],
   "source": [
    "sbn.countplot(x=review_df['overall'])"
   ]
  },
  {
   "cell_type": "code",
   "execution_count": 8,
   "id": "51c76b92",
   "metadata": {},
   "outputs": [],
   "source": [
    "#Removing Stopwords\n",
    "def data_clean( rev, remove_stopwords=True): \n",
    "\n",
    "    new_text = re.sub(\"[^a-zA-Z]\",\" \", rev)\n",
    "   \n",
    "    words = new_text.lower().split()\n",
    "    \n",
    "    if remove_stopwords:\n",
    "        sts = set(stopwords.words(\"english\"))\n",
    "        words = [w for w in words if not w in sts]\n",
    "    ary=[]\n",
    "    eng_stemmer = english_stemmer \n",
    "    for word in words:\n",
    "        ary.append(eng_stemmer.stem(word))\n",
    "\n",
    "    \n",
    "    return(ary)"
   ]
  },
  {
   "cell_type": "code",
   "execution_count": 9,
   "id": "1ba32d5f",
   "metadata": {},
   "outputs": [],
   "source": [
    "cleaned_reviewData = []\n",
    "for rev in review_df['reviewText']:\n",
    "    #print(rev)\n",
    "    cleaned_reviewData.append(\" \".join(data_clean(str(rev))))\n",
    "    \n",
    "clean_summaryData = []\n",
    "for rev in review_df['summary']:\n",
    "    clean_summaryData.append(\" \".join(data_clean(str(rev))))"
   ]
  },
  {
   "cell_type": "code",
   "execution_count": 12,
   "id": "e332eccc",
   "metadata": {},
   "outputs": [
    {
     "name": "stdout",
     "output_type": "stream",
     "text": [
      "work       227160\n",
      "great      142502\n",
      "filter     121586\n",
      "one        120878\n",
      "fit        116654\n",
      "replac     103676\n",
      "use        101075\n",
      "perfect    101037\n",
      "water      100958\n",
      "instal      94463\n",
      "product     85879\n",
      "good        84712\n",
      "part        82633\n",
      "time        72700\n",
      "like        72476\n",
      "price       72330\n",
      "easi        68851\n",
      "need        68539\n",
      "get         66400\n",
      "would       66287\n",
      "dtype: int64\n"
     ]
    }
   ],
   "source": [
    "#Fetching most frequent words from Review Text\n",
    "Most_used_Words_Review =pd.Series(' '.join(cleaned_reviewData).lower().split()).value_counts()[:20]\n",
    "print (Most_used_Words_Review)"
   ]
  },
  {
   "cell_type": "code",
   "execution_count": 13,
   "id": "be848fde",
   "metadata": {},
   "outputs": [
    {
     "name": "stdout",
     "output_type": "stream",
     "text": [
      "star       207792\n",
      "five       161188\n",
      "great       64875\n",
      "work        55912\n",
      "good        37071\n",
      "perfect     30095\n",
      "fit         27680\n",
      "filter      25521\n",
      "product     24428\n",
      "four        24060\n",
      "replac      22506\n",
      "one         18825\n",
      "easi        18482\n",
      "price       18422\n",
      "part        14357\n",
      "instal      14284\n",
      "water       13772\n",
      "like        12976\n",
      "buy         10831\n",
      "well         9312\n",
      "dtype: int64\n"
     ]
    }
   ],
   "source": [
    "#Fetching most frequent words from Review Summary\n",
    "Most_used_Words_Summary = pd.Series(' '.join(clean_summaryData).lower().split()).value_counts()[:20]\n",
    "print (Most_used_Words_Summary)"
   ]
  },
  {
   "cell_type": "code",
   "execution_count": 14,
   "id": "181e3169",
   "metadata": {},
   "outputs": [],
   "source": [
    "#preparing matrix of TF-IDF features\n",
    "from sklearn.feature_extraction.text import TfidfVectorizer\n",
    "text_vectorizer = TfidfVectorizer(min_df=4, max_features = 1000)\n",
    "test_vector = text_vectorizer.fit_transform(cleaned_reviewData)\n",
    "tfidf_vector = dict(zip(text_vectorizer.get_feature_names_out(), text_vectorizer.idf_))"
   ]
  },
  {
   "cell_type": "code",
   "execution_count": 15,
   "id": "df897c75",
   "metadata": {},
   "outputs": [
    {
     "name": "stderr",
     "output_type": "stream",
     "text": [
      "[nltk_data] Downloading package vader_lexicon to\n",
      "[nltk_data]     /Users/fannypatel/nltk_data...\n",
      "[nltk_data]   Package vader_lexicon is already up-to-date!\n"
     ]
    },
    {
     "data": {
      "text/plain": [
       "True"
      ]
     },
     "execution_count": 15,
     "metadata": {},
     "output_type": "execute_result"
    }
   ],
   "source": [
    "import nltk\n",
    "nltk.downloader.download('vader_lexicon')"
   ]
  },
  {
   "cell_type": "code",
   "execution_count": 16,
   "id": "f91f24b7",
   "metadata": {},
   "outputs": [
    {
     "name": "stdout",
     "output_type": "stream",
     "text": [
      "compound: 0.9836, \n",
      "neg: 0.0, \n",
      "neu: 0.771, \n",
      "pos: 0.229, \n",
      "Not one thing in this book seemed an obvious original thought. However, the clarity with which this author explains how innovation happens is remarkable.\n",
      "\n",
      "Alan Gregerman discusses the meaning of human interactions and the kinds of situations that tend to inspire original and/or clear thinking that leads to innovation. These things include how people communicate in certain situations such as when they are outside of their normal patterns.\n",
      "\n",
      "Gregerman identifies the ingredients that make innovation more likely. This includes people being compelled to interact when they normally wouldn't, leading to serendipity. Sometimes the phenomenon will occur through collaboration, and sometimes by chance such as when an individual is away from home on travel.\n",
      "\n",
      "I recommend this book for its common sense, its truth and the apparent mastery of the subject by the author.\n",
      "compound: 0.9925, \n",
      "neg: 0.017, \n",
      "neu: 0.793, \n",
      "pos: 0.189, \n",
      "I have enjoyed Dr. Alan Gregerman's weekly blog ([...] and two previous books since taking an innovation class with Alan over a decade ago.  He opened my eyes to seeing the world in a fresh way and also taught me structured techniques that I can use to increase the creative problem solving skills of teams and individuals.\n",
      "\n",
      "Alan untangles the difference between invention and innovation and makes it much easier to see that 99%+ of innovation is adaption of proven inventions borrowed from other industries, disciplines, contexts, and cultures.\n",
      "\n",
      "His previous book, Surrounded by Geniuses, is excellent.  It is a great mix of ideas and memorable examples of his insights in action.\n",
      "\n",
      "His newest book, The Necessity of Strangers, builds on that previous body of knowledge and delves further into a critical dimension of his innovation research about the power of making connections outside of one's group to discover alternative approaches to addressing a challenge.  The book is full of excellent examples of individuals and organizations tackling challenges by seeking ideas and insights from \"strangers\".  Alan borrows heavily from personal experience which enriches the storytelling aspect that makes his writing so accessible.\n",
      "\n",
      "If you have not seen Alan teaching his ideas or present to an audience, I would highly recommend it.  He has been a featured speaker at a solution architect leadership development program at our firm.  He recently presented the ideas from The Necessity of Strangers to a large audience of executives at our firm that left people talking, engaged, and energized.\n",
      "\n",
      "I highly recommend his books and Alan's live presentations.\n",
      "compound: 0.9606, \n",
      "neg: 0.059, \n",
      "neu: 0.727, \n",
      "pos: 0.214, \n",
      "Alan Gregerman believes that innovation comes from viewing problems from different and fresh perspectives.  In The Necessity of Strangers, he tells short, simple stories to help free us from current, legacy views of the problem at hand.  He then provides a toolbox containing practical exercises - to stretch our thinking, to collaborate more effectively, to find strangers - all focused on getting us to view problems from different perspectives.  The Necessity of Strangers is a quick read that I keep on the desk as a constant reminder to seek novel views from new sources.  Like matter to anti-matter, The Necessity of Strangers is the perfect and completing complement to his earlier Surrounded by Geniuses.  Gil Miller, Chief Technology Officer, Noblis\n",
      "compound: 0.981, \n",
      "neg: 0.0, \n",
      "neu: 0.677, \n",
      "pos: 0.323, \n",
      "Alan Gregerman is a smart, funny, entertaining writer who will jostle your point of view. Through every encounter with a stranger, Alan opens his mind and heart to new possibilities. His ability to spot meaningful connections and weave them into compelling stories allows us all to learn vicariously. His rich life experiences become our learning playground. I highly recommend this book and encourage you to share what you learn from strangers--as the result of your delightfully modified worldview.\n",
      "compound: 0.9988, \n",
      "neg: 0.035, \n",
      "neu: 0.771, \n",
      "pos: 0.194, \n",
      "As I began to read this book, I was again reminded of how deceptively complicated the word \"stranger\" is. It could refer to someone we have never heard of, of course, but it could also refer to someone we have met or heard about. We know their name but nothing else about them. Then there is another type of \"stranger\": someone we think we know well but really don't. We have false assumptions, a mindset, about who they are and aren't, what they can and can't do, and whether or not they would be willing to provide or receive assistance.\n",
      "\n",
      "Alan Gregerman wrote this book to explain how and why - with all due respect to the importance of one's family members, friends, and associates -- it is imperative to engage, learn from, and collaborate with strangers. \"People who are very different from us are essential to our growth and success as individuals and organizations.\" Just as Henry Chesbrough has devised an open business model, it could be said that Gregerman offers an open people model. How so?\n",
      "\n",
      "\"Each day we pass by more than one hundred people that could change our lives but we never make the time or effort to connect. The best way to solve any challenge or create any new opportunity is to begin by being curious about the world around us and realize that it is filled with remarkable people, insights, and possibilities.\" Nonetheless, there are those false assumptions and, perhaps, at least some concern about being rejected and feeling embarrassed or even foolish.\n",
      "\n",
      "He suggests a new paradigm individuals and organizations \"wise enough\" to incorporate exploration and openness in their DNA. Here's its formula:\n",
      "\n",
      "Business and Personal Success =\n",
      "What I Already Know +\n",
      "My Knowledge or Understanding Gap +\n",
      "A Stranger (or Strangers) Who Can Fill It\n",
      "\n",
      "His citation of one of my favorite Charles Kettering quotations is dead-on:\n",
      "\n",
      "\"Where there is an open mind there will always be a frontier.\"\n",
      "\n",
      "Gregerman devotes a great deal of attention to explaining how to develop the necessary mindset, one that embraces rather than recoils from exploration and openness. There are four core principles that provide its foundation: humility, curiosity, respect, and purpose. For those who are especially reluctant to become explorers of what is -- for them -- not only unfamiliar but perhaps terrifying territory, I presume to suggest one other: the courage to which Jack Dempsey refers when explaining that \"champions get up when they can't.\"\n",
      "\n",
      "These are among the passages that caught my eye:\n",
      "\n",
      "o Questions that strangers can help to answer (Page 9)\n",
      "o The Race to the South Pole (20-28)\n",
      "o What Science Tells Us (30-39)\n",
      "o From Mindset to Guiding Principles (51-56)\n",
      "o Helicopters. Hairstyles and Cars That Won't Collide (64-73)\n",
      "o Finding the Right Strangers (78-84)\n",
      "o Recognizing the Genius in Everyone (89-93)\n",
      "o Rethinking Employee Engagement (96-103)\n",
      "o Why Collaborate? (110-118)\n",
      "o The New World of Customers (131-134)\n",
      "o Understanding and Empowering Strangers (138-143)\n",
      "o The Promise of Strangers (152-155)\n",
      "o Changing the Game (158-163\n",
      "o Getting Past the First Bite (174-176)\n",
      "o Essential Tools for Implementation (189-201)\n",
      "\n",
      "When concluding his book, Alan Gregerman acknowledges the difficulty while stressing the importance of \"taking the first step\" toward understanding the potential importance of strangers to us and (yes) our potential importance to them. He observes, \"As humans we have the amazing ability to be open and to dream, imagine, explore, learn, connect, share, collaborate, innovate, and grow, to go big instead of going home. So get out there and find the stranger or the [strange] idea that could change your life.\" Who knows? We may be that stranger or have that idea that someone else needs. Nothing ventured....\n",
      "compound: 0.9605, \n",
      "neg: 0.0, \n",
      "neu: 0.786, \n",
      "pos: 0.214, \n",
      "I teach a class on innovation and I used the Necessity of Strangers as one of the required books. The students loved the book. The book is an insightful piece of literature that turns the common knowledge of networking on its head. The main point of the book is that random strangers are able to be much more beneficial in the growth of a product or business, because strangers have outside perspectives without bias.\n",
      "\n",
      "I would highly recommend the book. Also, Mr. Gregerman is a wonderful public speaker!\n",
      "compound: 0.9849, \n",
      "neg: 0.0, \n",
      "neu: 0.686, \n",
      "pos: 0.314, \n",
      "I so appreciated the insights and perspective this book.  Allen Gregerman organIzes and presents ideas beautifully - reminding us that seeing things in new ways is so very valuable.  So much about life encourages us to seek the known and comfortable and yet so infrequently is that where growth and progress is realized.\n",
      "\n",
      "The writing style is wonderful. I've given copies of the book to my HR friends - and it has been very well received\n",
      "\n",
      "Imagine if more organizations embraced this thinking!\n",
      "compound: 0.9311, \n",
      "neg: 0.0, \n",
      "neu: 0.695, \n",
      "pos: 0.305, \n",
      "As with \"Surrounded by Genius\", Alan Gregerman brings simple ideas to create inspiration.  Never underestimate the human spirit and those around you to bring creativity and innovation to any challenge.  Alan has once again put a tool in our hands to invite us to look to those around us for solutions and guidance.\n",
      "compound: 0.8126, \n",
      "neg: 0.0, \n",
      "neu: 0.843, \n",
      "pos: 0.157, \n",
      "Alan Gregermans book provides valuable ideas for leaders who are required to continually scan and look for new and better ways to engage their employees and customers and innovatively grow their business.  His stories and guidance empower leaders to take actions that lead to possibility while broadening connections.\n",
      "compound: 0.9981, \n",
      "neg: 0.043, \n",
      "neu: 0.702, \n",
      "pos: 0.255, \n",
      "I am a believer in Alan Gregerman.  I have enjoyed his blogs, lectures and books for several years.  Alan offers fun and practical guidance on not only getting the most out of our work, but out of our lives.\n",
      "\n",
      "Alan encourages us to get out of the comfort zone.  When faced with an urgent problem, most of us buckle down, bring in our closest advisors, lock the doors, order in dinner and make very important decisions.  Alan argues that we need to get out of the office, walk around and see what other great companies are doing.\n",
      "\n",
      "Why?  In his latest offering, Alan reminds us the importance of strangers in our lives and the companies and organizations where we work.  In this Facebook world we live in, where many of us may have thousands of friends, Alan reminds us that friends can only get us so far..they are often reflections of ourselves.  While these might be comforting in a scary, for us to grow we must get out of the comfort zone in order to reach  our full potential?\n",
      "\n",
      "We are a society that worships great ideas and often think that you must be brilliant like a Jobs or Zuckerberg.  Alan reminds us that most great ideas are borrowed from strangers and that the answers to our problem might be right and front of us.  He references  the Census, a process remained unchanged for nearly two centuries, and how it was improved by learning from our friends at UPS . That ITunes is merely a takeoff of The Great Library in Alexandria.  That most new drug discoveries are not being uncovered in isolated laboratories, but in faraway places that have treated these diseases for hundreds of years.\n",
      "\n",
      "99% of all ideas embrace the brilliance in the world around us. Curiosity. Humility. Respect.  While we all cannot be brilliant, we all can be curious, humble and respectful.  It is these arrows we need in quivers to reach our full potential,\n"
     ]
    }
   ],
   "source": [
    "# Sentiment Analyzer\n",
    "from nltk.sentiment.vader import SentimentIntensityAnalyzer\n",
    "analyser = SentimentIntensityAnalyzer()\n",
    "sample_review = review_df.reviewText[:10]\n",
    "for test in sample_review:\n",
    "    test\n",
    "    ss = analyser.polarity_scores(test)\n",
    "    for k in sorted(ss):\n",
    "        print('{0}: {1}, '.format(k, ss[k]))\n",
    "    print(test)"
   ]
  },
  {
   "cell_type": "code",
   "execution_count": 17,
   "id": "ebc953fd",
   "metadata": {},
   "outputs": [
    {
     "name": "stdout",
     "output_type": "stream",
     "text": [
      "Cluster 0:\n",
      " littl\n",
      " work\n",
      " great\n",
      " fit\n",
      " one\n",
      "\n",
      "Cluster 1:\n",
      " like\n",
      " work\n",
      " charm\n",
      " origin\n",
      " fit\n",
      "\n",
      "Cluster 2:\n",
      " product\n",
      " great\n",
      " purchas\n",
      " time\n",
      " happi\n",
      "\n",
      "Cluster 3:\n",
      " great\n",
      " work\n",
      " product\n",
      " price\n",
      " fit\n",
      "\n",
      "Cluster 4:\n",
      " water\n",
      " tast\n",
      " filter\n",
      " great\n",
      " good\n",
      "\n",
      "Cluster 5:\n",
      " easi\n",
      " instal\n",
      " work\n",
      " great\n",
      " perfect\n",
      "\n",
      "Cluster 6:\n",
      " one\n",
      " use\n",
      " dryer\n",
      " get\n",
      " washer\n",
      "\n",
      "Cluster 7:\n",
      " fast\n",
      " ship\n",
      " deliveri\n",
      " great\n",
      " quick\n",
      "\n",
      "Cluster 8:\n",
      " filter\n",
      " water\n",
      " replac\n",
      " work\n",
      " price\n",
      "\n",
      "Cluster 9:\n",
      " work\n",
      " well\n",
      " fit\n",
      " expect\n",
      " great\n",
      "\n",
      "Cluster 10:\n",
      " ice\n",
      " maker\n",
      " make\n",
      " work\n",
      " fine\n",
      "\n",
      "Cluster 11:\n",
      " exact\n",
      " need\n",
      " fit\n",
      " describ\n",
      " work\n",
      "\n",
      "Cluster 12:\n",
      " perfect\n",
      " work\n",
      " replac\n",
      " match\n",
      " need\n",
      "\n",
      "Cluster 13:\n",
      " replac\n",
      " perfect\n",
      " one\n",
      " old\n",
      " work\n",
      "\n",
      "Cluster 14:\n",
      " fit\n",
      " perfect\n",
      " great\n",
      " work\n",
      " price\n",
      "\n",
      "Cluster 15:\n",
      " buy\n",
      " great\n",
      " would\n",
      " work\n",
      " one\n",
      "\n",
      "Cluster 16:\n",
      " excel\n",
      " product\n",
      " price\n",
      " qualiti\n",
      " servic\n",
      "\n",
      "Cluster 17:\n",
      " part\n",
      " replac\n",
      " work\n",
      " perfect\n",
      " fit\n",
      "\n",
      "Cluster 18:\n",
      " thank\n",
      " great\n",
      " work\n",
      " perfect\n",
      " fit\n",
      "\n",
      "Cluster 19:\n",
      " good\n",
      " price\n",
      " product\n",
      " work\n",
      " qualiti\n",
      "\n"
     ]
    }
   ],
   "source": [
    "#Kmeans clusters\n",
    "from sklearn.cluster import MiniBatchKMeans\n",
    "\n",
    "clusters = 20\n",
    "kmeans_model = MiniBatchKMeans(n_clusters=clusters, init='k-means++', n_init=1, \n",
    "                         init_size=1000, batch_size=1000, verbose=False, max_iter=1000)\n",
    "kmodel = kmeans_model.fit(test_vector)\n",
    "kmodel_clusters = kmodel.predict(test_vector)\n",
    "kmodel_distances = kmodel.transform(test_vector)\n",
    "centroids = kmodel.cluster_centers_.argsort()[:, ::-1]\n",
    "values = text_vectorizer.get_feature_names_out()\n",
    "for i in range(clusters):\n",
    "    print(\"Cluster %d:\" % i)\n",
    "    for j in centroids[i, :5]:\n",
    "        print(' %s' % values[j])\n",
    "    print()\n"
   ]
  },
  {
   "cell_type": "code",
   "execution_count": 18,
   "id": "cacd0ac6",
   "metadata": {},
   "outputs": [],
   "source": [
    "test_reviewText = review_df.reviewText\n",
    "test_Ratings = review_df.overall\n",
    "text_vectorizer = TfidfVectorizer(max_df=.8)\n",
    "text_vectorizer.fit_transform(test_reviewText.values.astype('U'))\n",
    "def rate(r):\n",
    "    ary2 = []\n",
    "    for rating in r:\n",
    "        tv = [0,0,0,0,0]\n",
    "        tv[rating-1] = 1\n",
    "        ary2.append(tv)\n",
    "    return np.array(ary2)"
   ]
  },
  {
   "cell_type": "code",
   "execution_count": 19,
   "id": "123611bc",
   "metadata": {},
   "outputs": [
    {
     "data": {
      "text/plain": [
       "0       Not one thing in this book seemed an obvious o...\n",
       "1       I have enjoyed Dr. Alan Gregerman's weekly blo...\n",
       "2       Alan Gregerman believes that innovation comes ...\n",
       "3       Alan Gregerman is a smart, funny, entertaining...\n",
       "4       As I began to read this book, I was again remi...\n",
       "                              ...                        \n",
       "1995     Can be painted.  Keeps out rodents and cold air.\n",
       "1996    this thing really works. it stopped the cold a...\n",
       "1997    This thing is well worth the money when you co...\n",
       "1998                                  everything was fine\n",
       "1999    Great product. It is a replacement for one we ...\n",
       "Name: reviewText, Length: 2000, dtype: object"
      ]
     },
     "execution_count": 19,
     "metadata": {},
     "output_type": "execute_result"
    }
   ],
   "source": [
    "#Review text\n",
    "test_reviewText =test_reviewText[:2000]\n",
    "test_reviewText"
   ]
  },
  {
   "cell_type": "code",
   "execution_count": 20,
   "id": "242d2a72",
   "metadata": {},
   "outputs": [
    {
     "data": {
      "text/plain": [
       "0       5\n",
       "1       5\n",
       "2       5\n",
       "3       5\n",
       "4       5\n",
       "       ..\n",
       "1995    5\n",
       "1996    5\n",
       "1997    5\n",
       "1998    5\n",
       "1999    5\n",
       "Name: overall, Length: 2000, dtype: int64"
      ]
     },
     "execution_count": 20,
     "metadata": {},
     "output_type": "execute_result"
    }
   ],
   "source": [
    "#Overall ratings\n",
    "test_Ratings = test_Ratings[:2000]\n",
    "test_Ratings"
   ]
  },
  {
   "cell_type": "code",
   "execution_count": 21,
   "id": "d8dffa6e",
   "metadata": {},
   "outputs": [],
   "source": [
    "X = text_vectorizer.transform(test_reviewText.values.astype('U')).toarray()\n",
    "y = rate(test_Ratings.values)"
   ]
  },
  {
   "cell_type": "markdown",
   "id": "ffe355d6",
   "metadata": {},
   "source": [
    "TextCNN Model"
   ]
  },
  {
   "cell_type": "code",
   "execution_count": 38,
   "id": "1985a1e7",
   "metadata": {
    "scrolled": true
   },
   "outputs": [
    {
     "name": "stdout",
     "output_type": "stream",
     "text": [
      "Epoch 1/10\n",
      "213/213 [==============================] - 3s 14ms/step - loss: 1.1521 - accuracy: 0.5812 - val_loss: 1.0474 - val_accuracy: 0.5733\n",
      "Epoch 2/10\n",
      "213/213 [==============================] - 3s 12ms/step - loss: 0.8853 - accuracy: 0.6500 - val_loss: 0.9611 - val_accuracy: 0.6033\n",
      "Epoch 3/10\n",
      "213/213 [==============================] - 3s 12ms/step - loss: 0.7282 - accuracy: 0.7465 - val_loss: 0.9417 - val_accuracy: 0.6167\n",
      "Epoch 4/10\n",
      "213/213 [==============================] - 3s 12ms/step - loss: 0.6008 - accuracy: 0.8047 - val_loss: 0.9484 - val_accuracy: 0.6200\n",
      "Epoch 5/10\n",
      "213/213 [==============================] - 3s 12ms/step - loss: 0.5073 - accuracy: 0.8500 - val_loss: 0.9868 - val_accuracy: 0.6000\n",
      "Epoch 6/10\n",
      "213/213 [==============================] - 3s 13ms/step - loss: 0.4325 - accuracy: 0.8612 - val_loss: 1.0343 - val_accuracy: 0.5967\n",
      "Epoch 7/10\n",
      "213/213 [==============================] - 3s 12ms/step - loss: 0.3782 - accuracy: 0.8794 - val_loss: 1.0789 - val_accuracy: 0.5900\n",
      "Epoch 8/10\n",
      "213/213 [==============================] - 3s 13ms/step - loss: 0.3387 - accuracy: 0.8876 - val_loss: 1.1223 - val_accuracy: 0.5933\n",
      "Epoch 9/10\n",
      "213/213 [==============================] - 3s 13ms/step - loss: 0.3046 - accuracy: 0.8935 - val_loss: 1.1849 - val_accuracy: 0.5800\n",
      "Epoch 10/10\n",
      "213/213 [==============================] - 3s 13ms/step - loss: 0.2808 - accuracy: 0.9018 - val_loss: 1.2518 - val_accuracy: 0.5933\n",
      "10/10 [==============================] - 0s 6ms/step - loss: 1.2518 - accuracy: 0.5933\n"
     ]
    },
    {
     "data": {
      "text/plain": [
       "0.5933333039283752"
      ]
     },
     "execution_count": 38,
     "metadata": {},
     "output_type": "execute_result"
    }
   ],
   "source": [
    "#TextCNN Model\n",
    "X_train, X_test, y_train, y_test = train_test_split(X,y,test_size=.15)\n",
    "\n",
    "#After performing Oversampling (because of high amount of data in with 5 Rating)\n",
    "# over = SMOTE(k_neighbors=7)\n",
    "# X_train, y_train = over.fit_resample(X_train, y_train)\n",
    "\n",
    "#model implementation\n",
    "model = Sequential()\n",
    "model.add(Dense(128,input_dim=X_train.shape[1]))\n",
    "model.add(Dense(5,activation='softmax'))\n",
    "model.compile(loss='categorical_crossentropy',optimizer='rmsprop',metrics=['accuracy'])\n",
    "map=model.fit(X_train,y_train,validation_data=(X_test, y_test),epochs=10,batch_size=8,verbose=1)\n",
    "model.evaluate(X_test,y_test)[1]"
   ]
  },
  {
   "cell_type": "code",
   "execution_count": 39,
   "id": "4d8cb391",
   "metadata": {},
   "outputs": [
    {
     "data": {
      "image/png": "[encoded data removed]",
      "text/plain": [
       "<Figure size 640x480 with 1 Axes>"
      ]
     },
     "metadata": {},
     "output_type": "display_data"
    }
   ],
   "source": [
    "#TextCNN model accuracy graph\n",
    "plt.plot(map.history['accuracy'])\n",
    "plt.plot(map.history['val_accuracy'])\n",
    "plt.title('TextCNN model accuracy')\n",
    "plt.ylabel('accuracy')\n",
    "plt.xlabel('epoch')\n",
    "plt.legend(['train', 'test'], loc='upper left')\n",
    "plt.show()"
   ]
  },
  {
   "cell_type": "code",
   "execution_count": 40,
   "id": "fff2aa38",
   "metadata": {},
   "outputs": [
    {
     "data": {
      "image/png": "[encoded data removed]",
      "text/plain": [
       "<Figure size 640x480 with 1 Axes>"
      ]
     },
     "metadata": {},
     "output_type": "display_data"
    }
   ],
   "source": [
    "#TextCNN model Loss graph\n",
    "plt.plot(map.history['loss'])\n",
    "plt.plot(map.history['val_loss'])\n",
    "plt.title('TextCNN model loss')\n",
    "plt.ylabel('loss')\n",
    "plt.xlabel('epoch')\n",
    "plt.legend(['train', 'test'], loc='upper left')\n",
    "plt.show()"
   ]
  },
  {
   "cell_type": "code",
   "execution_count": 41,
   "id": "c6a03233",
   "metadata": {},
   "outputs": [
    {
     "name": "stderr",
     "output_type": "stream",
     "text": [
      "/var/folders/dd/0k6q11nj127933sr8wm11nhw0000gn/T/ipykernel_807/1542369679.py:11: MatplotlibDeprecationWarning: The seaborn styles shipped by Matplotlib are deprecated since 3.6, as they no longer correspond to the styles shipped by seaborn. However, they will remain available as 'seaborn-v0_8-<style>'. Alternatively, directly use the seaborn API instead.\n",
      "  plt.style.use('seaborn-darkgrid')\n"
     ]
    },
    {
     "data": {
      "image/png": "[encoded data removed]",
      "text/plain": [
       "<Figure size 640x480 with 1 Axes>"
      ]
     },
     "metadata": {},
     "output_type": "display_data"
    }
   ],
   "source": [
    "# Assuming 'history' is the variable storing the training history of your TextCNN model\n",
    "plt.plot(map.history['accuracy'], color='blue', linestyle='-', marker='o', label='Train Accuracy')\n",
    "plt.plot(map.history['val_accuracy'], color='orange', linestyle='--', marker='x', label='Validation Accuracy')\n",
    "plt.title('TextCNN Model Accuracy')\n",
    "plt.xlabel('Epoch')\n",
    "plt.ylabel('Accuracy')\n",
    "plt.legend(loc='upper left')\n",
    "\n",
    "# Customize the appearance further\n",
    "plt.grid(True)\n",
    "plt.style.use('seaborn-darkgrid')\n",
    "plt.tight_layout()  # Adjust layout for better appearance\n",
    "\n",
    "plt.show()"
   ]
  },
  {
   "cell_type": "code",
   "execution_count": 42,
   "id": "043def0b",
   "metadata": {},
   "outputs": [
    {
     "name": "stderr",
     "output_type": "stream",
     "text": [
      "/var/folders/dd/0k6q11nj127933sr8wm11nhw0000gn/T/ipykernel_807/1347188204.py:11: MatplotlibDeprecationWarning: The seaborn styles shipped by Matplotlib are deprecated since 3.6, as they no longer correspond to the styles shipped by seaborn. However, they will remain available as 'seaborn-v0_8-<style>'. Alternatively, directly use the seaborn API instead.\n",
      "  plt.style.use('seaborn-darkgrid')\n"
     ]
    },
    {
     "data": {
      "image/png": "[encoded data removed]",
      "text/plain": [
       "<Figure size 640x480 with 1 Axes>"
      ]
     },
     "metadata": {},
     "output_type": "display_data"
    }
   ],
   "source": [
    "# Assuming 'history' is the variable storing the training history of your TextCNN model\n",
    "plt.plot(map.history['loss'], color='red', linestyle='-', marker='o', label='Train Loss')\n",
    "plt.plot(map.history['val_loss'], color='green', linestyle='--', marker='x', label='Validation Loss')\n",
    "plt.title('TextCNN Model Loss')\n",
    "plt.xlabel('Epoch')\n",
    "plt.ylabel('Loss')\n",
    "plt.legend(loc='upper right')\n",
    "\n",
    "# Customize the appearance further\n",
    "plt.grid(True)\n",
    "plt.style.use('seaborn-darkgrid')\n",
    "plt.tight_layout()  # Adjust layout for better appearance\n",
    "\n",
    "plt.show()"
   ]
  },
  {
   "cell_type": "code",
   "execution_count": null,
   "id": "0eb46aaf",
   "metadata": {},
   "outputs": [],
   "source": []
  }
 ],
 "metadata": {
  "kernelspec": {
   "display_name": "Python 3 (ipykernel)",
   "language": "python",
   "name": "python3"
  },
  "language_info": {
   "codemirror_mode": {
    "name": "ipython",
    "version": 3
   },
   "file_extension": ".py",
   "mimetype": "text/x-python",
   "name": "python",
   "nbconvert_exporter": "python",
   "pygments_lexer": "ipython3",
   "version": "3.10.9"
  }
 },
 "nbformat": 4,
 "nbformat_minor": 5
}
